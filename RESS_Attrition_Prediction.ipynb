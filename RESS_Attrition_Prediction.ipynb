{
  "nbformat": 4,
  "nbformat_minor": 0,
  "metadata": {
    "colab": {
      "provenance": [],
      "authorship_tag": "ABX9TyPAiu1yrwXyKYm+wA5+A59H",
      "include_colab_link": true
    },
    "kernelspec": {
      "name": "python3",
      "display_name": "Python 3"
    },
    "language_info": {
      "name": "python"
    }
  },
  "cells": [
    {
      "cell_type": "markdown",
      "metadata": {
        "id": "view-in-github",
        "colab_type": "text"
      },
      "source": [
        "<a href=\"https://colab.research.google.com/github/rudraymehra/RESS-Attrition-Prediction/blob/main/RESS_Attrition_Prediction.ipynb\" target=\"_parent\"><img src=\"https://colab.research.google.com/assets/colab-badge.svg\" alt=\"Open In Colab\"/></a>"
      ]
    },
    {
      "cell_type": "code",
      "execution_count": 3,
      "metadata": {
        "id": "j0yKxcwPHcjr"
      },
      "outputs": [],
      "source": [
        "##  RESS builds a transparent attrition-prediction system by combining HR datasets with\n",
        "## market intelligence (reviews, salaries, hiring trends), surfaces key drivers via SHAP,\n",
        "## and maps them to practical retention recommendations through a Streamlit dashboard and API."
      ]
    },
    {
      "cell_type": "code",
      "metadata": {
        "id": "496311b4",
        "colab": {
          "base_uri": "https://localhost:8080/"
        },
        "outputId": "4ec45ed7-4c33-4b03-ccdb-bac890ba43a9"
      },
      "source": [
        "from google.colab import drive\n",
        "drive.mount('/content/drive')\n",
        "\n",
        "import os\n",
        "\n",
        "BASE = \"/content/drive/MyDrive/RESS-Attrition-Prediction\"\n",
        "folders = [\n",
        "    \"data/raw\", \"data/processed\", \"data/external\",\n",
        "    \"notebooks\", \"src\", \"models\", \"reports/figures\"\n",
        "]\n",
        "for f in folders:\n",
        "    os.makedirs(os.path.join(BASE, f), exist_ok=True)\n",
        "\n",
        "print(\"Created:\", BASE)"
      ],
      "execution_count": 4,
      "outputs": [
        {
          "output_type": "stream",
          "name": "stdout",
          "text": [
            "Mounted at /content/drive\n",
            "Created: /content/drive/MyDrive/RESS-Attrition-Prediction\n"
          ]
        }
      ]
    }
  ]
}